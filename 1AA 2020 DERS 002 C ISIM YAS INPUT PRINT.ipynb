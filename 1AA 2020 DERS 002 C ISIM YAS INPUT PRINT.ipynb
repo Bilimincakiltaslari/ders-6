{
 "cells": [
  {
   "cell_type": "code",
   "execution_count": null,
   "metadata": {},
   "outputs": [],
   "source": [
    "print('Selam Dünyalı')\n",
    "print('Senin adın ne?')    \n",
    "benimAdim = input()           # Kullanıcının adını alıyoruz.\n",
    "print('Seninle tanıştığıma sevindim ' + benimAdim)\n",
    "print('Senin isminin uzunluğu:')\n",
    "print(len(benimAdim))\n",
    "print('Kaç yaşındasın?')    \n",
    "benimYasim = input()       # Kullanıcının yaşını alıyoruz.\n",
    "print('5 yıl sonra ' + str(int(benimYasim) + 5) + ' yaşında olacaksın.')"
   ]
  }
 ],
 "metadata": {
  "kernelspec": {
   "display_name": "Python 3",
   "language": "python",
   "name": "python3"
  },
  "language_info": {
   "codemirror_mode": {
    "name": "ipython",
    "version": 3
   },
   "file_extension": ".py",
   "mimetype": "text/x-python",
   "name": "python",
   "nbconvert_exporter": "python",
   "pygments_lexer": "ipython3",
   "version": "3.7.3"
  }
 },
 "nbformat": 4,
 "nbformat_minor": 2
}
